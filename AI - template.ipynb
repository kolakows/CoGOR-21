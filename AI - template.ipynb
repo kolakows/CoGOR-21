{
 "cells": [
  {
   "cell_type": "markdown",
   "metadata": {},
   "source": [
    "# Sprawdzanie dokładności modelu\n",
    "Plik test_data.csv jest dostępny tylko dla jury. Zawiera dane testowe - jednakowe dla wszystkich drużyn. Jest w takim samym formacie co zbiór, który otrzymaliście wraz z zadaniem, tylko już z czystymi danymi."
   ]
  },
  {
   "cell_type": "code",
   "execution_count": 5,
   "metadata": {},
   "outputs": [],
   "source": [
    "import pandas as pd\n",
    "import numpy as np"
   ]
  },
  {
   "cell_type": "code",
   "execution_count": 8,
   "metadata": {},
   "outputs": [],
   "source": [
    "test_data = pd.read_csv(\"test_data.csv\")"
   ]
  },
  {
   "cell_type": "markdown",
   "metadata": {},
   "source": [
    "### Miejsce na twój kod:"
   ]
  },
  {
   "cell_type": "code",
   "execution_count": 11,
   "metadata": {},
   "outputs": [
    {
     "name": "stdout",
     "output_type": "stream",
     "text": [
      "Requirement already satisfied: xgboost==0.90 in /home/igor/anaconda3/lib/python3.7/site-packages (0.90)\n",
      "Requirement already satisfied: scipy in /home/igor/anaconda3/lib/python3.7/site-packages (from xgboost==0.90) (1.4.1)\n",
      "Requirement already satisfied: numpy in /home/igor/.local/lib/python3.7/site-packages (from xgboost==0.90) (1.18.5)\n",
      "\u001b[33mWARNING: You are using pip version 20.2.2; however, version 21.0.1 is available.\n",
      "You should consider upgrading via the '/home/igor/anaconda3/bin/python -m pip install --upgrade pip' command.\u001b[0m\n",
      "Requirement already satisfied: scikit-learn==0.22.2.post1 in /home/igor/anaconda3/lib/python3.7/site-packages (0.22.2.post1)\n",
      "Requirement already satisfied: numpy>=1.11.0 in /home/igor/.local/lib/python3.7/site-packages (from scikit-learn==0.22.2.post1) (1.18.5)\n",
      "Requirement already satisfied: joblib>=0.11 in /home/igor/anaconda3/lib/python3.7/site-packages (from scikit-learn==0.22.2.post1) (0.14.1)\n",
      "Requirement already satisfied: scipy>=0.17.0 in /home/igor/anaconda3/lib/python3.7/site-packages (from scikit-learn==0.22.2.post1) (1.4.1)\n",
      "\u001b[33mWARNING: You are using pip version 20.2.2; however, version 21.0.1 is available.\n",
      "You should consider upgrading via the '/home/igor/anaconda3/bin/python -m pip install --upgrade pip' command.\u001b[0m\n"
     ]
    }
   ],
   "source": [
    "!pip install xgboost==0.90\n",
    "!pip install scikit-learn==0.22.2.post1\n",
    "\n",
    "import xgboost as xgb\n",
    "import pickle\n",
    "\n",
    "fi_model = './xgboost_model.pkl'\n",
    "fi_cols = './columns_model.pkl'\n",
    "with open(fi_cols, 'rb') as f:\n",
    "    columns = pickle.load(f)\n",
    "with open(fi_model, 'rb') as f:\n",
    "    model = pickle.load(f)\n",
    "\n",
    "assert 'Activity' not in columns\n",
    "predicted = model.predict(test_data[columns])"
   ]
  },
  {
   "cell_type": "markdown",
   "metadata": {},
   "source": [
    "### Sprawdzanie dokładności:\n",
    "Predicted - zmienna przechowująca przewidzianą aktywność. Poniższa linijka powinna zwrócić wartość 0-1."
   ]
  },
  {
   "cell_type": "code",
   "execution_count": 14,
   "metadata": {},
   "outputs": [],
   "source": [
    "np.mean(predicted == test_data.Activity)"
   ]
  }
 ],
 "metadata": {
  "kernelspec": {
   "display_name": "Python 3",
   "language": "python",
   "name": "python3"
  },
  "language_info": {
   "codemirror_mode": {
    "name": "ipython",
    "version": 3
   },
   "file_extension": ".py",
   "mimetype": "text/x-python",
   "name": "python",
   "nbconvert_exporter": "python",
   "pygments_lexer": "ipython3",
   "version": "3.7.6"
  }
 },
 "nbformat": 4,
 "nbformat_minor": 4
}
