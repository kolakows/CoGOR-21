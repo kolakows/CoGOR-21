{
  "nbformat": 4,
  "nbformat_minor": 0,
  "metadata": {
    "colab": {
      "name": "testing_2types_linear.ipynb",
      "provenance": [],
      "collapsed_sections": []
    },
    "kernelspec": {
      "name": "python3",
      "display_name": "Python 3"
    },
    "language_info": {
      "name": "python"
    }
  },
  "cells": [
    {
      "cell_type": "code",
      "metadata": {
        "colab": {
          "base_uri": "https://localhost:8080/"
        },
        "id": "a1-yWTRTxgxQ",
        "outputId": "5b6a18f8-6d9f-427d-a448-bf1038cf6554"
      },
      "source": [
        "from google.colab import drive\n",
        "drive.mount('/gdrive')\n",
        "%cd /gdrive/MyDrive/bhl"
      ],
      "execution_count": 1,
      "outputs": [
        {
          "output_type": "stream",
          "text": [
            "Drive already mounted at /gdrive; to attempt to forcibly remount, call drive.mount(\"/gdrive\", force_remount=True).\n",
            "/gdrive/MyDrive/bhl\n"
          ],
          "name": "stdout"
        }
      ]
    },
    {
      "cell_type": "code",
      "metadata": {
        "id": "ocEFDfJUyFgy"
      },
      "source": [
        "import pandas as pd\n",
        "\n",
        "train_unb = pd.read_csv('./unbalanced/train.csv')\n",
        "test_unb = pd.read_csv('./unbalanced/test.csv')\n",
        "\n",
        "train = pd.read_csv('./undersampled/train.csv')\n",
        "test = pd.read_csv('./undersampled/test.csv')"
      ],
      "execution_count": 2,
      "outputs": []
    },
    {
      "cell_type": "code",
      "metadata": {
        "id": "RQzRwndXy6Kj"
      },
      "source": [
        "import numpy as np\n",
        "\n",
        "train_unb = train_unb.assign(ActivityType=np.where((train_unb['Activity'] == \"STANDING\") | (train_unb['Activity'] == \"SITTING\") | (train_unb['Activity'] == \"LAYING\"), 0, 1))\n",
        "train_unb = train_unb.drop(['subject', 'void()', 'Activity'], axis=1)\n",
        "train = train.assign(ActivityType=np.where((train['Activity'] == \"STANDING\") | (train['Activity'] == \"SITTING\") | (train['Activity'] == \"LAYING\"), 0, 1))\n",
        "train = train.drop(['subject', 'void()', 'Activity'], axis=1)\n",
        "\n",
        "test_unb = test_unb.assign(ActivityType=np.where((test_unb['Activity'] == \"STANDING\") | (test_unb['Activity'] == \"SITTING\") | (test_unb['Activity'] == \"LAYING\"), 0, 1))\n",
        "test_unb = test_unb.drop(['subject', 'void()', 'Activity'], axis=1)\n",
        "test = test.assign(ActivityType=np.where((test['Activity'] == \"STANDING\") | (test['Activity'] == \"SITTING\") | (test['Activity'] == \"LAYING\"), 0, 1))\n",
        "test = test.drop(['subject', 'void()', 'Activity'], axis=1)"
      ],
      "execution_count": 3,
      "outputs": []
    },
    {
      "cell_type": "code",
      "metadata": {
        "id": "6HvlrBIkzf7s"
      },
      "source": [
        "target = ['ActivityType']\n",
        "\n",
        "train_unb_x, train_unb_y = train_unb.drop(target, axis = 1), train_unb[target]\n",
        "test_unb_x, test_unb_y = test_unb.drop(target, axis = 1), test_unb[target]\n",
        "\n",
        "train_x, train_y = train.drop(target, axis = 1), train[target]\n",
        "test_x, test_y = test.drop(target, axis = 1), test[target]"
      ],
      "execution_count": 4,
      "outputs": []
    },
    {
      "cell_type": "code",
      "metadata": {
        "colab": {
          "base_uri": "https://localhost:8080/"
        },
        "id": "FaCs7kvs03TX",
        "outputId": "a2bc07f4-1919-40b7-af2a-4d548d9c63e7"
      },
      "source": [
        "import sklearn.linear_model as lm\n",
        "\n",
        "model_unb = lm.LinearRegression()\n",
        "model_unb.fit(train_unb_x, np.ravel(train_unb_y))\n",
        "\n",
        "model = lm.LinearRegression()\n",
        "model.fit(train_x, np.ravel(train_y))"
      ],
      "execution_count": 5,
      "outputs": [
        {
          "output_type": "execute_result",
          "data": {
            "text/plain": [
              "LinearRegression(copy_X=True, fit_intercept=True, n_jobs=None, normalize=False)"
            ]
          },
          "metadata": {
            "tags": []
          },
          "execution_count": 5
        }
      ]
    },
    {
      "cell_type": "code",
      "metadata": {
        "colab": {
          "base_uri": "https://localhost:8080/"
        },
        "id": "6eQxGg2f0_Lu",
        "outputId": "a7672bc7-175c-4c7e-aa4f-f6cc2e9a9e2d"
      },
      "source": [
        "from sklearn.metrics import accuracy_score\n",
        "from sklearn.utils.multiclass import type_of_target\n",
        "\n",
        "accuracy_unb = model_unb.score(test_unb_x, test_unb_y)\n",
        "accuracy = model.score(test_x, test_y)\n",
        "\n",
        "print(\"Accuracy for data with uneven rows: %.2f%%\" % (accuracy_unb * 100.0))\n",
        "print(\"Accuracy for data with even rows: %.2f%%\" % (accuracy * 100.0))"
      ],
      "execution_count": 12,
      "outputs": [
        {
          "output_type": "stream",
          "text": [
            "Accuracy for data with uneven rows: 97.49%\n",
            "Accuracy for data with even rows: 96.79%\n"
          ],
          "name": "stdout"
        }
      ]
    }
  ]
}