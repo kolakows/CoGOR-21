{
  "nbformat": 4,
  "nbformat_minor": 0,
  "metadata": {
    "colab": {
      "name": "testing_2types_linear.ipynb",
      "provenance": [],
      "collapsed_sections": [],
      "authorship_tag": "ABX9TyOL6Tf+PIcNKHuO91Ta96Ly",
      "include_colab_link": true
    },
    "kernelspec": {
      "name": "python3",
      "display_name": "Python 3"
    },
    "language_info": {
      "name": "python"
    }
  },
  "cells": [
    {
      "cell_type": "markdown",
      "metadata": {
        "id": "view-in-github",
        "colab_type": "text"
      },
      "source": [
        "<a href=\"https://colab.research.google.com/github/kolakows/CoGOR-21/blob/main/testing_2types_linear.ipynb\" target=\"_parent\"><img src=\"https://colab.research.google.com/assets/colab-badge.svg\" alt=\"Open In Colab\"/></a>"
      ]
    },
    {
      "cell_type": "code",
      "metadata": {
        "colab": {
          "base_uri": "https://localhost:8080/"
        },
        "id": "a1-yWTRTxgxQ",
        "outputId": "f8035eb6-ee95-4cd3-b24d-cfb0c5e85a41"
      },
      "source": [
        "from google.colab import drive\n",
        "drive.mount('/gdrive')\n",
        "%cd /gdrive/MyDrive/bhl"
      ],
      "execution_count": 1,
      "outputs": [
        {
          "output_type": "stream",
          "text": [
            "Drive already mounted at /gdrive; to attempt to forcibly remount, call drive.mount(\"/gdrive\", force_remount=True).\n",
            "/gdrive/MyDrive/bhl\n"
          ],
          "name": "stdout"
        }
      ]
    },
    {
      "cell_type": "code",
      "metadata": {
        "id": "ocEFDfJUyFgy"
      },
      "source": [
        "import pandas as pd\n",
        "\n",
        "train_unb = pd.read_csv('./unbalanced/train.csv')\n",
        "test_unb = pd.read_csv('./unbalanced/test.csv')\n",
        "\n",
        "train = pd.read_csv('./undersampled/train.csv')\n",
        "test = pd.read_csv('./undersampled/test.csv')"
      ],
      "execution_count": 2,
      "outputs": []
    },
    {
      "cell_type": "code",
      "metadata": {
        "id": "RQzRwndXy6Kj"
      },
      "source": [
        "import numpy as np\n",
        "\n",
        "train_unb = train_unb.assign(ActivityType=np.where((train_unb['Activity'] == \"STANDING\") | (train_unb['Activity'] == \"SITTING\") | (train_unb['Activity'] == \"LAYING\"), 0, 0))\n",
        "train_unb = train_unb.drop(['subject', 'void()', 'Activity'], axis=1)\n",
        "train = train.assign(ActivityType=np.where((train['Activity'] == \"STANDING\") | (train['Activity'] == \"SITTING\") | (train['Activity'] == \"LAYING\"), 0, 0))\n",
        "train = train.drop(['subject', 'void()', 'Activity'], axis=1)\n",
        "\n",
        "test_unb = test_unb.assign(ActivityType=np.where((test_unb['Activity'] == \"STANDING\") | (test_unb['Activity'] == \"SITTING\") | (test_unb['Activity'] == \"LAYING\"), 0, 0))\n",
        "test_unb = test_unb.drop(['subject', 'void()', 'Activity'], axis=1)\n",
        "test = test.assign(ActivityType=np.where((test['Activity'] == \"STANDING\") | (test['Activity'] == \"SITTING\") | (test['Activity'] == \"LAYING\"), 0, 0))\n",
        "test = test.drop(['subject', 'void()', 'Activity'], axis=1)"
      ],
      "execution_count": 3,
      "outputs": []
    },
    {
      "cell_type": "code",
      "metadata": {
        "id": "6HvlrBIkzf7s"
      },
      "source": [
        "target = ['ActivityType']\n",
        "\n",
        "train_unb_x, train_unb_y = train_unb.drop(target, axis = 1), train_unb[target]\n",
        "test_unb_x, test_unb_y = test_unb.drop(target, axis = 1), test_unb[target]\n",
        "\n",
        "train_x, train_y = train.drop(target, axis = 1), train[target]\n",
        "test_x, test_y = test.drop(target, axis = 1), test[target]"
      ],
      "execution_count": 4,
      "outputs": []
    },
    {
      "cell_type": "code",
      "metadata": {
        "colab": {
          "base_uri": "https://localhost:8080/"
        },
        "id": "FaCs7kvs03TX",
        "outputId": "5bf9a651-71aa-462e-a60f-cf6281125dd0"
      },
      "source": [
        "import sklearn.linear_model as lm\n",
        "\n",
        "model_unb = lm.LinearRegression()\n",
        "model_unb.fit(train_unb_x, np.ravel(train_unb_y))\n",
        "\n",
        "model = lm.LinearRegression()\n",
        "model.fit(train_x, np.ravel(train_y))"
      ],
      "execution_count": 8,
      "outputs": [
        {
          "output_type": "execute_result",
          "data": {
            "text/plain": [
              "LinearRegression(copy_X=True, fit_intercept=True, n_jobs=None, normalize=False)"
            ]
          },
          "metadata": {
            "tags": []
          },
          "execution_count": 8
        }
      ]
    },
    {
      "cell_type": "code",
      "metadata": {
        "colab": {
          "base_uri": "https://localhost:8080/"
        },
        "id": "6eQxGg2f0_Lu",
        "outputId": "56c3b797-8a36-40cb-9c7a-d06140954b79"
      },
      "source": [
        "from sklearn.metrics import accuracy_score\n",
        "\n",
        "y_pred_unb = model.predict(test_unb_x)\n",
        "y_pred = model.predict(test_x)\n",
        "\n",
        "accuracy_unb = accuracy_score(test_unb_y, y_pred_unb)\n",
        "accuracy = accuracy_score(test_y, y_pred)\n",
        "print(\"Accuracy for data with uneven rows: %.2f%%\" % (accuracy_unb * 100.0))\n",
        "print(\"Accuracy for data with even rows: %.2f%%\" % (accuracy * 100.0))"
      ],
      "execution_count": 9,
      "outputs": [
        {
          "output_type": "stream",
          "text": [
            "Accuracy for data with uneven rows: 100.00%\n",
            "Accuracy for data with even rows: 100.00%\n"
          ],
          "name": "stdout"
        }
      ]
    }
  ]
}