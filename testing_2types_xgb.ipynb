{
  "nbformat": 4,
  "nbformat_minor": 0,
  "metadata": {
    "colab": {
      "name": "testing_2types_xgb.ipynb",
      "provenance": [],
      "collapsed_sections": [],
      "authorship_tag": "ABX9TyODCWf+rtKDiitgdf2dpoDJ",
      "include_colab_link": true
    },
    "kernelspec": {
      "name": "python3",
      "display_name": "Python 3"
    },
    "language_info": {
      "name": "python"
    }
  },
  "cells": [
    {
      "cell_type": "markdown",
      "metadata": {
        "id": "view-in-github",
        "colab_type": "text"
      },
      "source": [
        "<a href=\"https://colab.research.google.com/github/kolakows/CoGOR-21/blob/main/testing_2types_xgb.ipynb\" target=\"_parent\"><img src=\"https://colab.research.google.com/assets/colab-badge.svg\" alt=\"Open In Colab\"/></a>"
      ]
    },
    {
      "cell_type": "code",
      "metadata": {
        "colab": {
          "base_uri": "https://localhost:8080/"
        },
        "id": "a1-yWTRTxgxQ",
        "outputId": "dfd8748b-5824-4dd9-f367-c044cb8e8455"
      },
      "source": [
        "from google.colab import drive\n",
        "drive.mount('/gdrive')\n",
        "%cd /gdrive/MyDrive/bhl"
      ],
      "execution_count": 1,
      "outputs": [
        {
          "output_type": "stream",
          "text": [
            "Mounted at /gdrive\n",
            "/gdrive/MyDrive/bhl\n"
          ],
          "name": "stdout"
        }
      ]
    },
    {
      "cell_type": "code",
      "metadata": {
        "id": "ocEFDfJUyFgy"
      },
      "source": [
        "import pandas as pd\n",
        "\n",
        "train_unb = pd.read_csv('./unbalanced/train.csv')\n",
        "test_unb = pd.read_csv('./unbalanced/test.csv')\n",
        "\n",
        "train = pd.read_csv('./undersampled/train.csv')\n",
        "test = pd.read_csv('./undersampled/test.csv')"
      ],
      "execution_count": 2,
      "outputs": []
    },
    {
      "cell_type": "code",
      "metadata": {
        "id": "RQzRwndXy6Kj"
      },
      "source": [
        "import numpy as np\n",
        "\n",
        "train_unb = train_unb.assign(ActivityType=np.where((train_unb['Activity'] == \"STANDING\") | (train_unb['Activity'] == \"SITTING\") | (train_unb['Activity'] == \"LAYING\"), 'IDLE', 'MOVING'))\n",
        "train_unb = train_unb.drop(['subject', 'void()', 'Activity'], axis=1)\n",
        "train = train.assign(ActivityType=np.where((train['Activity'] == \"STANDING\") | (train['Activity'] == \"SITTING\") | (train['Activity'] == \"LAYING\"), 'IDLE', 'MOVING'))\n",
        "train = train.drop(['subject', 'void()', 'Activity'], axis=1)\n",
        "\n",
        "test_unb = test_unb.assign(ActivityType=np.where((test_unb['Activity'] == \"STANDING\") | (test_unb['Activity'] == \"SITTING\") | (test_unb['Activity'] == \"LAYING\"), 'IDLE', 'MOVING'))\n",
        "test_unb = test_unb.drop(['subject', 'void()', 'Activity'], axis=1)\n",
        "test = test.assign(ActivityType=np.where((test['Activity'] == \"STANDING\") | (test['Activity'] == \"SITTING\") | (test['Activity'] == \"LAYING\"), 'IDLE', 'MOVING'))\n",
        "test = test.drop(['subject', 'void()', 'Activity'], axis=1)"
      ],
      "execution_count": 3,
      "outputs": []
    },
    {
      "cell_type": "code",
      "metadata": {
        "id": "6HvlrBIkzf7s"
      },
      "source": [
        "target = ['ActivityType']\n",
        "\n",
        "train_unb_x, train_unb_y = train_unb.drop(target, axis = 1), train_unb[target]\n",
        "test_unb_x, test_unb_y = test_unb.drop(target, axis = 1), test_unb[target]\n",
        "\n",
        "train_x, train_y = train.drop(target, axis = 1), train[target]\n",
        "test_x, test_y = test.drop(target, axis = 1), test[target]"
      ],
      "execution_count": 4,
      "outputs": []
    },
    {
      "cell_type": "code",
      "metadata": {
        "colab": {
          "base_uri": "https://localhost:8080/"
        },
        "id": "FaCs7kvs03TX",
        "outputId": "4f58fffa-4b9d-49c9-99df-977816a79170"
      },
      "source": [
        "import xgboost as xgb\n",
        "\n",
        "model_unb = xgb.XGBClassifier()\n",
        "model_unb.fit(train_unb_x, np.ravel(train_unb_y))\n",
        "\n",
        "model = xgb.XGBClassifier()\n",
        "model.fit(train_x, np.ravel(train_y))"
      ],
      "execution_count": 5,
      "outputs": [
        {
          "output_type": "execute_result",
          "data": {
            "text/plain": [
              "XGBClassifier(base_score=0.5, booster='gbtree', colsample_bylevel=1,\n",
              "              colsample_bynode=1, colsample_bytree=1, gamma=0,\n",
              "              learning_rate=0.1, max_delta_step=0, max_depth=3,\n",
              "              min_child_weight=1, missing=None, n_estimators=100, n_jobs=1,\n",
              "              nthread=None, objective='binary:logistic', random_state=0,\n",
              "              reg_alpha=0, reg_lambda=1, scale_pos_weight=1, seed=None,\n",
              "              silent=None, subsample=1, verbosity=1)"
            ]
          },
          "metadata": {
            "tags": []
          },
          "execution_count": 5
        }
      ]
    },
    {
      "cell_type": "code",
      "metadata": {
        "colab": {
          "base_uri": "https://localhost:8080/"
        },
        "id": "6eQxGg2f0_Lu",
        "outputId": "19bfee2a-c5e2-43a1-faa4-494d0bc6b9dc"
      },
      "source": [
        "from sklearn.metrics import accuracy_score\n",
        "\n",
        "y_pred_unb = model.predict(test_unb_x)\n",
        "y_pred = model.predict(test_x)\n",
        "\n",
        "accuracy_unb = accuracy_score(test_unb_y, y_pred_unb)\n",
        "accuracy = accuracy_score(test_y, y_pred)\n",
        "print(\"Accuracy for data with uneven rows: %.2f%%\" % (accuracy_unb * 100.0))\n",
        "print(\"Accuracy for data with even rows: %.2f%%\" % (accuracy * 100.0))"
      ],
      "execution_count": 6,
      "outputs": [
        {
          "output_type": "stream",
          "text": [
            "Accuracy for data with uneven rows: 100.00%\n",
            "Accuracy for data with even rows: 100.00%\n"
          ],
          "name": "stdout"
        }
      ]
    }
  ]
}